{
 "cells": [
  {
   "cell_type": "code",
   "execution_count": 18,
   "metadata": {
    "collapsed": true
   },
   "outputs": [],
   "source": [
    "from urllib import request"
   ]
  },
  {
   "cell_type": "code",
   "execution_count": 43,
   "metadata": {},
   "outputs": [
    {
     "name": "stdout",
     "output_type": "stream",
     "text": [
      "Group, Email+logo+picture\n",
      "Searching the Web for:  Group, Email+logo+picture\n",
      "\n",
      "Relevant HTTP Headers:\n",
      "\n",
      "BingAPIs-TraceId: 491579BA01F6448EB752BA48B8F3B61A\n",
      "BingAPIs-SessionId: 8F47293B495A4F7E84967001427B00FF\n",
      "X-MSEdge-ClientID: 0FC0A4CF62FD68611888AF83635B69A9\n",
      "BingAPIs-Market: ru-RU\n",
      "X-MSEdge-Ref: Ref A: 491579BA01F6448EB752BA48B8F3B61A Ref B: AMS04EDGE1022 Ref C: 2017-12-02T15:29:35Z\n",
      "\n",
      "JSON Response:\n",
      "\n",
      "https://upload.wikimedia.org/wikipedia/commons/a/ac/Agent_mail.ru_logo.png\n"
     ]
    }
   ],
   "source": [
    "# -*- coding: utf-8 -*-\n",
    "\n",
    "import http.client, urllib.parse, json\n",
    "\n",
    "# **********************************************\n",
    "# *** Update or verify the following values. ***\n",
    "# **********************************************\n",
    "\n",
    "# Replace the subscriptionKey string value with your valid subscription key.\n",
    "subscriptionKey = \"33f4b68b3743478abfabe7673ec66161\"\n",
    "\n",
    "# Verify the endpoint URI.  At this writing, only one endpoint is used for Bing\n",
    "# search APIs.  In the future, regional endpoints may be available.  If you\n",
    "# encounter unexpected authorization errors, double-check this value against\n",
    "# the endpoint for your Bing Web search instance in your Azure dashboard.\n",
    "search_name = 'Mail.Ru Group, Email & Portal'\n",
    "\n",
    "search_name = search_name.split(' ')\n",
    "if len(search_name) == 1:\n",
    "    term = search_name[0]\n",
    "elif len(search_name) == 2:\n",
    "    term = search_name[0]+\" \"+search_name[1]\n",
    "else: \n",
    "    term = search_name[1]+\" \"+search_name[2]\n",
    "term+='+logo+picture'\n",
    "\n",
    "host = \"api.cognitive.microsoft.com\"\n",
    "path = \"/bing/v7.0/search\"\n",
    "print(term)\n",
    "\n",
    "\n",
    "\n",
    "\n",
    "def BingWebSearch(search):\n",
    "    \"Performs a Bing Web search and returns the results.\"\n",
    "\n",
    "    headers = {'Ocp-Apim-Subscription-Key': subscriptionKey}\n",
    "    conn = http.client.HTTPSConnection(host)\n",
    "    query = urllib.parse.quote(search)\n",
    "    conn.request(\"GET\", path + \"?q=\" + query, headers=headers)\n",
    "    response = conn.getresponse()\n",
    "    headers = [k + \": \" + v for (k, v) in response.getheaders()\n",
    "                   if k.startswith(\"BingAPIs-\") or k.startswith(\"X-MSEdge-\")]\n",
    "    return headers, response.read().decode(\"utf8\")\n",
    "\n",
    "if len(subscriptionKey) == 32:\n",
    "\n",
    "    print('Searching the Web for: ', term)\n",
    "\n",
    "    headers, result = BingWebSearch(term)\n",
    "    print(\"\\nRelevant HTTP Headers:\\n\")\n",
    "    print(\"\\n\".join(headers))\n",
    "    print(\"\\nJSON Response:\\n\")\n",
    "#     print(json.dumps(json.loads(result), indent=4))\n",
    "    res1=json.loads(result)\n",
    "    pic_url=res1['images']['value'][0]['contentUrl']\n",
    "    print(res1['images']['value'][0]['contentUrl'])\n",
    "    request.urlretrieve(pic_url,\"pic.jpg\")\n",
    "    \n",
    "    \n",
    "\n",
    "else:\n",
    "\n",
    "    print(\"Invalid Bing Search API subscription key!\")\n",
    "    print(\"Please paste yours into the source code.\")"
   ]
  },
  {
   "cell_type": "code",
   "execution_count": 31,
   "metadata": {},
   "outputs": [
    {
     "name": "stdout",
     "output_type": "stream",
     "text": [
      "https://upload.wikimedia.org/wikipedia/commons/a/ac/Agent_mail.ru_logo.png\n"
     ]
    }
   ],
   "source": [
    "print(res1['images']['value'][0]['contentUrl'])\n"
   ]
  },
  {
   "cell_type": "code",
   "execution_count": null,
   "metadata": {
    "collapsed": true
   },
   "outputs": [],
   "source": []
  }
 ],
 "metadata": {
  "kernelspec": {
   "display_name": "Python 3",
   "language": "python",
   "name": "python3"
  },
  "language_info": {
   "codemirror_mode": {
    "name": "ipython",
    "version": 3
   },
   "file_extension": ".py",
   "mimetype": "text/x-python",
   "name": "python",
   "nbconvert_exporter": "python",
   "pygments_lexer": "ipython3",
   "version": "3.6.3"
  }
 },
 "nbformat": 4,
 "nbformat_minor": 2
}
